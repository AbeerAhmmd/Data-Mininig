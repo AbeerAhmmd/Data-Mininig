{
 "cells": [
  {
   "cell_type": "markdown",
   "id": "12fe3632",
   "metadata": {},
   "source": [
    "# Lab 1 "
   ]
  },
  {
   "cell_type": "markdown",
   "id": "a43a796b",
   "metadata": {},
   "source": [
    "Create a function that requests the amount of the requested loan and the user salary, and then calculate the interest (5%) and the amount after adding the interest\n",
    "\n",
    "Make sure the following constraints are met:\n",
    "\n",
    "• The user shouldn't request a negative value\n",
    "\n",
    "• The requested amount should be maximum five times the user’s salary"
   ]
  },
  {
   "cell_type": "code",
   "execution_count": 9,
   "id": "7bef71ce",
   "metadata": {},
   "outputs": [
    {
     "name": "stdout",
     "output_type": "stream",
     "text": [
      "Enter the requested loan amount: 1000\n",
      "Enter your salary: 100\n",
      "Requested amount exceeds the limit (five times the salary).\n",
      "Enter the requested loan amount: 100\n",
      "Enter your salary: 1000\n",
      "Loan amount: $100.00\n",
      "Interest (5%): $5.00\n",
      "Total amount after adding interest: $105.00\n"
     ]
    }
   ],
   "source": [
    "def calculate_loan_amount():\n",
    "    # Take user's input \n",
    "    while True:\n",
    "        try:\n",
    "            loan_amount = float(input(\"Enter the requested loan amount: \"))\n",
    "            salary = float(input(\"Enter your salary: \"))\n",
    "            \n",
    "            if loan_amount < 0 or salary < 0:\n",
    "                print(\"Please enter non-negative values.\")\n",
    "                continue\n",
    "            \n",
    "            if loan_amount > 5 * salary:\n",
    "                print(\"Requested amount exceeds the limit (five times the salary).\")\n",
    "                continue\n",
    "            \n",
    "            interest = 0.05 * loan_amount\n",
    "            total_amount = loan_amount + interest\n",
    "            \n",
    "            print(f\"Loan amount: ${loan_amount:.2f}\")\n",
    "            print(f\"Interest (5%): ${interest:.2f}\")\n",
    "            print(f\"Total amount after adding interest: ${total_amount:.2f}\")\n",
    "            \n",
    "            break\n",
    "            \n",
    "        except ValueError:\n",
    "            print(\"Invalid input. Please enter a valid numerical value.\")\n",
    "\n",
    "# Test the function\n",
    "calculate_loan_amount()\n"
   ]
  }
 ],
 "metadata": {
  "kernelspec": {
   "display_name": "tfenv",
   "language": "python",
   "name": "tfenv"
  },
  "language_info": {
   "codemirror_mode": {
    "name": "ipython",
    "version": 3
   },
   "file_extension": ".py",
   "mimetype": "text/x-python",
   "name": "python",
   "nbconvert_exporter": "python",
   "pygments_lexer": "ipython3",
   "version": "3.11.4"
  }
 },
 "nbformat": 4,
 "nbformat_minor": 5
}
