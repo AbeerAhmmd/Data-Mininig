{
 "cells": [
  {
   "cell_type": "markdown",
   "id": "b4e4e0d8",
   "metadata": {},
   "source": [
    "# Exercise 1:"
   ]
  },
  {
   "cell_type": "code",
   "execution_count": 7,
   "id": "5b0b4614",
   "metadata": {},
   "outputs": [],
   "source": [
    "#function program which sums all the items in a list\n",
    "def sum_items(ls):\n",
    "    total = 0\n",
    "\n",
    "    # iterate through the list and calculate the sum \n",
    "    for i in ls:\n",
    "        total += i\n",
    "        \n",
    "    print('The total sum is :',total)"
   ]
  },
  {
   "cell_type": "code",
   "execution_count": 8,
   "id": "0e81a717",
   "metadata": {},
   "outputs": [],
   "source": [
    "ls1 = [2,3,1,0]"
   ]
  },
  {
   "cell_type": "code",
   "execution_count": 18,
   "id": "7fa6e154",
   "metadata": {},
   "outputs": [
    {
     "name": "stdout",
     "output_type": "stream",
     "text": [
      "The total sum is : 6\n"
     ]
    }
   ],
   "source": [
    "sum_items(ls1)"
   ]
  },
  {
   "cell_type": "code",
   "execution_count": 19,
   "id": "e5897f37",
   "metadata": {},
   "outputs": [],
   "source": [
    "ls2 = [1,2,-8]"
   ]
  },
  {
   "cell_type": "code",
   "execution_count": 20,
   "id": "76a97470",
   "metadata": {},
   "outputs": [
    {
     "name": "stdout",
     "output_type": "stream",
     "text": [
      "The total sum is : -5\n"
     ]
    }
   ],
   "source": [
    "sum_items(ls2)"
   ]
  },
  {
   "cell_type": "code",
   "execution_count": null,
   "id": "0ab691e7",
   "metadata": {},
   "outputs": [],
   "source": []
  },
  {
   "cell_type": "markdown",
   "id": "19bd44e9",
   "metadata": {},
   "source": [
    "# Exercise 2:"
   ]
  },
  {
   "cell_type": "code",
   "execution_count": 15,
   "id": "81fb3bb9",
   "metadata": {},
   "outputs": [],
   "source": [
    "# Write a function that counts the number of strings from a given list of strings. \n",
    "def sum_strings(ls_string):\n",
    "    count = 0 \n",
    "    \n",
    "    for s in ls_string:\n",
    "        if len(s) >= 2 and s[0] == s[-1]:\n",
    "            count += 1\n",
    "            \n",
    "    print('The Result is :',count)"
   ]
  },
  {
   "cell_type": "code",
   "execution_count": 16,
   "id": "1a8c560a",
   "metadata": {},
   "outputs": [],
   "source": [
    "str_list = ['abc', 'xyz', 'aba', '1221'] "
   ]
  },
  {
   "cell_type": "code",
   "execution_count": 17,
   "id": "cb0a93a8",
   "metadata": {},
   "outputs": [
    {
     "name": "stdout",
     "output_type": "stream",
     "text": [
      "The Result is : 2\n"
     ]
    }
   ],
   "source": [
    "sum_strings(str_list)"
   ]
  },
  {
   "cell_type": "code",
   "execution_count": null,
   "id": "452b757b",
   "metadata": {},
   "outputs": [],
   "source": []
  },
  {
   "cell_type": "code",
   "execution_count": null,
   "id": "bbb3c89f",
   "metadata": {},
   "outputs": [],
   "source": [
    "ls2 = ['A','C'] # error cuz its a string "
   ]
  },
  {
   "cell_type": "code",
   "execution_count": null,
   "id": "1a0373bb",
   "metadata": {},
   "outputs": [],
   "source": [
    "list_of_string = ['Abeer','Car', 'Sunny']\n",
    "\n",
    "for i in list_of_string:\n",
    "    if (i.isalpha()<3): \n",
    "        print ('the sring less the 3')\n",
    "        \n",
    "        \n",
    "        for char in input_string:\n",
    "    if char.isalpha():\n",
    "        letter_count += 1"
   ]
  }
 ],
 "metadata": {
  "kernelspec": {
   "display_name": "Python 3 (ipykernel)",
   "language": "python",
   "name": "python3"
  },
  "language_info": {
   "codemirror_mode": {
    "name": "ipython",
    "version": 3
   },
   "file_extension": ".py",
   "mimetype": "text/x-python",
   "name": "python",
   "nbconvert_exporter": "python",
   "pygments_lexer": "ipython3",
   "version": "3.9.13"
  }
 },
 "nbformat": 4,
 "nbformat_minor": 5
}
